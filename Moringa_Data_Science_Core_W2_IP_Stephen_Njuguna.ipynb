{
  "nbformat": 4,
  "nbformat_minor": 0,
  "metadata": {
    "colab": {
      "name": "Moringa_Data_Science_Core_W2_IP_Stephen_Njuguna",
      "provenance": [],
      "toc_visible": true,
      "authorship_tag": "ABX9TyM1oZiYuUw1TCg5SFPuXmWk",
      "include_colab_link": true
    },
    "kernelspec": {
      "name": "python3",
      "display_name": "Python 3"
    },
    "language_info": {
      "name": "python"
    }
  },
  "cells": [
    {
      "cell_type": "markdown",
      "metadata": {
        "id": "view-in-github",
        "colab_type": "text"
      },
      "source": [
        "<a href=\"https://colab.research.google.com/github/Stephen-Njuguna/Moringa_school_Core_wk2/blob/main/Moringa_Data_Science_Core_W2_IP_Stephen_Njuguna.ipynb\" target=\"_parent\"><img src=\"https://colab.research.google.com/assets/colab-badge.svg\" alt=\"Open In Colab\"/></a>"
      ]
    },
    {
      "cell_type": "markdown",
      "metadata": {
        "id": "NAmMK3-6fFmb"
      },
      "source": [
        "# Exploratory Data Analysis: Univariate, Biavariate & Multivariate Analysis"
      ]
    },
    {
      "cell_type": "markdown",
      "metadata": {
        "id": "8g3M1QoQfIpY"
      },
      "source": [
        "## 1. Defining the Question"
      ]
    },
    {
      "cell_type": "markdown",
      "metadata": {
        "id": "0NTKm0gDfVnf"
      },
      "source": [
        "### a) Specifying the Question"
      ]
    },
    {
      "cell_type": "markdown",
      "metadata": {
        "id": "9-q4gjvZffFa"
      },
      "source": [
        " How we can predict which individuals are most likely to have or use a bank account?"
      ]
    },
    {
      "cell_type": "markdown",
      "metadata": {
        "id": "8iKKiUlPfr6D"
      },
      "source": [
        "### b)Defining the Metric for Success"
      ]
    },
    {
      "cell_type": "code",
      "metadata": {
        "id": "A0muHTeWfufX"
      },
      "source": [
        "#Success metric will be measured by been able to indenity \n",
        "#and predict the individuals who are most likely to have or have access to bank accounts"
      ],
      "execution_count": 1,
      "outputs": []
    },
    {
      "cell_type": "markdown",
      "metadata": {
        "id": "BbsN5Q3ngi_2"
      },
      "source": [
        ""
      ]
    },
    {
      "cell_type": "markdown",
      "metadata": {
        "id": "Uo_3X--Ig8la"
      },
      "source": [
        "### c)Understanding the concept"
      ]
    },
    {
      "cell_type": "code",
      "metadata": {
        "id": "HACXiCwoFB5g"
      },
      "source": [
        "#Financial Inclusion remains one of the main obstacles to economic and human development in Africa. For example, across\n",
        "# Kenya, Rwanda, Tanzania, and Uganda only 9.1 million adults (or 13.9% of the adult population) have access to or use a commercial bank account."
      ],
      "execution_count": 2,
      "outputs": []
    },
    {
      "cell_type": "markdown",
      "metadata": {
        "id": "YkHHNC3fhH8b"
      },
      "source": [
        "### d)Expriemental Design Taken"
      ]
    },
    {
      "cell_type": "code",
      "metadata": {
        "id": "wTvmrgRBFRcF"
      },
      "source": [
        "# 1. importing Libraries\n",
        "# 2.Reading the Dataset\n",
        "# 3.Checking and Previewing the Data\n",
        "# 4. Data Tyding\n",
        "# 5. More Data Cleaning \n",
        "# 6.EXploratory Analysis\n",
        "# 7.Univariate Analysis\n",
        "# 8.Biavariate Analysis\n",
        "# 9.Multivariate Analysis"
      ],
      "execution_count": 3,
      "outputs": []
    },
    {
      "cell_type": "markdown",
      "metadata": {
        "id": "ev592yO3hYFH"
      },
      "source": [
        "### e) Data Relevance"
      ]
    },
    {
      "cell_type": "code",
      "metadata": {
        "id": "36dQMcX3G6Bx"
      },
      "source": [
        "# After previewing and doing data cleaning l was left with a dataset that\n",
        "# l can use to solve and challenge my problem statement."
      ],
      "execution_count": 4,
      "outputs": []
    },
    {
      "cell_type": "markdown",
      "metadata": {
        "id": "Ka6JzGXxhrjo"
      },
      "source": [
        "## Reading the Data"
      ]
    },
    {
      "cell_type": "markdown",
      "metadata": {
        "id": "9ZNvzw3CiRGZ"
      },
      "source": [
        "### a)Importing Libraries"
      ]
    },
    {
      "cell_type": "code",
      "metadata": {
        "id": "VJp54r1ziMB1"
      },
      "source": [
        "import pandas as pd\n",
        "import numpy as np\n",
        "import matplotlib.pyplot as plt\n",
        "import seaborn as sns"
      ],
      "execution_count": 5,
      "outputs": []
    },
    {
      "cell_type": "markdown",
      "metadata": {
        "id": "hKrUzDBciqd3"
      },
      "source": [
        "### b)Reading the data "
      ]
    },
    {
      "cell_type": "code",
      "metadata": {
        "id": "YnAWfRtWivkv"
      },
      "source": [
        "url = 'http://bit.ly/FinancialDataset'\n",
        "df = pd.read_csv(url)"
      ],
      "execution_count": 6,
      "outputs": []
    },
    {
      "cell_type": "markdown",
      "metadata": {
        "id": "Thk7za5ii8SV"
      },
      "source": [
        "## Checking the Data "
      ]
    },
    {
      "cell_type": "code",
      "metadata": {
        "colab": {
          "base_uri": "https://localhost:8080/"
        },
        "id": "kwY5k5X1jCVq",
        "outputId": "ed564343-ad43-42b2-ff60-f0503e494e03"
      },
      "source": [
        "# Determining the no. of records in our dataset\n",
        "#\n",
        "df.shape"
      ],
      "execution_count": 7,
      "outputs": [
        {
          "output_type": "execute_result",
          "data": {
            "text/plain": [
              "(23524, 13)"
            ]
          },
          "metadata": {},
          "execution_count": 7
        }
      ]
    },
    {
      "cell_type": "code",
      "metadata": {
        "colab": {
          "base_uri": "https://localhost:8080/",
          "height": 170
        },
        "id": "hOfuQcU0jKVi",
        "outputId": "355cc906-a970-4a87-e7d1-8753c36e9a76"
      },
      "source": [
        "# Previewing the top of our dataset\n",
        "#\n",
        "df.head(1)"
      ],
      "execution_count": 8,
      "outputs": [
        {
          "output_type": "execute_result",
          "data": {
            "text/html": [
              "<div>\n",
              "<style scoped>\n",
              "    .dataframe tbody tr th:only-of-type {\n",
              "        vertical-align: middle;\n",
              "    }\n",
              "\n",
              "    .dataframe tbody tr th {\n",
              "        vertical-align: top;\n",
              "    }\n",
              "\n",
              "    .dataframe thead th {\n",
              "        text-align: right;\n",
              "    }\n",
              "</style>\n",
              "<table border=\"1\" class=\"dataframe\">\n",
              "  <thead>\n",
              "    <tr style=\"text-align: right;\">\n",
              "      <th></th>\n",
              "      <th>country</th>\n",
              "      <th>year</th>\n",
              "      <th>uniqueid</th>\n",
              "      <th>Has a Bank account</th>\n",
              "      <th>Type of Location</th>\n",
              "      <th>Cell Phone Access</th>\n",
              "      <th>household_size</th>\n",
              "      <th>Respondent Age</th>\n",
              "      <th>gender_of_respondent</th>\n",
              "      <th>The relathip with head</th>\n",
              "      <th>marital_status</th>\n",
              "      <th>Level of Educuation</th>\n",
              "      <th>Type of Job</th>\n",
              "    </tr>\n",
              "  </thead>\n",
              "  <tbody>\n",
              "    <tr>\n",
              "      <th>0</th>\n",
              "      <td>Kenya</td>\n",
              "      <td>2018</td>\n",
              "      <td>uniqueid_1</td>\n",
              "      <td>Yes</td>\n",
              "      <td>Rural</td>\n",
              "      <td>Yes</td>\n",
              "      <td>3.0</td>\n",
              "      <td>24.0</td>\n",
              "      <td>Female</td>\n",
              "      <td>Spouse</td>\n",
              "      <td>Married/Living together</td>\n",
              "      <td>Secondary education</td>\n",
              "      <td>Self employed</td>\n",
              "    </tr>\n",
              "  </tbody>\n",
              "</table>\n",
              "</div>"
            ],
            "text/plain": [
              "  country  year  ...  Level of Educuation    Type of Job\n",
              "0   Kenya  2018  ...  Secondary education  Self employed\n",
              "\n",
              "[1 rows x 13 columns]"
            ]
          },
          "metadata": {},
          "execution_count": 8
        }
      ]
    },
    {
      "cell_type": "code",
      "metadata": {
        "colab": {
          "base_uri": "https://localhost:8080/",
          "height": 170
        },
        "id": "92-uxlIIjN_q",
        "outputId": "7c7e93e2-0ac4-47b5-d3d5-6e67c0c03db2"
      },
      "source": [
        "# Previewing the bottom of our dataset\n",
        "# \n",
        "df.tail(1)"
      ],
      "execution_count": 9,
      "outputs": [
        {
          "output_type": "execute_result",
          "data": {
            "text/html": [
              "<div>\n",
              "<style scoped>\n",
              "    .dataframe tbody tr th:only-of-type {\n",
              "        vertical-align: middle;\n",
              "    }\n",
              "\n",
              "    .dataframe tbody tr th {\n",
              "        vertical-align: top;\n",
              "    }\n",
              "\n",
              "    .dataframe thead th {\n",
              "        text-align: right;\n",
              "    }\n",
              "</style>\n",
              "<table border=\"1\" class=\"dataframe\">\n",
              "  <thead>\n",
              "    <tr style=\"text-align: right;\">\n",
              "      <th></th>\n",
              "      <th>country</th>\n",
              "      <th>year</th>\n",
              "      <th>uniqueid</th>\n",
              "      <th>Has a Bank account</th>\n",
              "      <th>Type of Location</th>\n",
              "      <th>Cell Phone Access</th>\n",
              "      <th>household_size</th>\n",
              "      <th>Respondent Age</th>\n",
              "      <th>gender_of_respondent</th>\n",
              "      <th>The relathip with head</th>\n",
              "      <th>marital_status</th>\n",
              "      <th>Level of Educuation</th>\n",
              "      <th>Type of Job</th>\n",
              "    </tr>\n",
              "  </thead>\n",
              "  <tbody>\n",
              "    <tr>\n",
              "      <th>23523</th>\n",
              "      <td>Uganda</td>\n",
              "      <td>2018</td>\n",
              "      <td>uniqueid_2117</td>\n",
              "      <td>No</td>\n",
              "      <td>Rural</td>\n",
              "      <td>Yes</td>\n",
              "      <td>10.0</td>\n",
              "      <td>20.0</td>\n",
              "      <td>Male</td>\n",
              "      <td>Child</td>\n",
              "      <td>Single/Never Married</td>\n",
              "      <td>Secondary education</td>\n",
              "      <td>No Income</td>\n",
              "    </tr>\n",
              "  </tbody>\n",
              "</table>\n",
              "</div>"
            ],
            "text/plain": [
              "      country  year  ...  Level of Educuation Type of Job\n",
              "23523  Uganda  2018  ...  Secondary education   No Income\n",
              "\n",
              "[1 rows x 13 columns]"
            ]
          },
          "metadata": {},
          "execution_count": 9
        }
      ]
    },
    {
      "cell_type": "code",
      "metadata": {
        "colab": {
          "base_uri": "https://localhost:8080/"
        },
        "id": "wZ--4w5ajTHB",
        "outputId": "5876399c-7e4d-44ae-c542-d33e2e2dea5f"
      },
      "source": [
        "# Checking whether each column has an appropriate datatype\n",
        "#\n",
        "df.dtypes"
      ],
      "execution_count": 71,
      "outputs": [
        {
          "output_type": "execute_result",
          "data": {
            "text/plain": [
              "country                    object\n",
              "year                        int64\n",
              "Has a Bank account         object\n",
              "Type of Location           object\n",
              "Cell Phone Access          object\n",
              "household_size            float64\n",
              "Respondent Age            float64\n",
              "gender_of_respondent       object\n",
              "The relathip with head     object\n",
              "marital_status             object\n",
              "Level of Educuation        object\n",
              "Type of Job                object\n",
              "dtype: object"
            ]
          },
          "metadata": {},
          "execution_count": 71
        }
      ]
    },
    {
      "cell_type": "markdown",
      "metadata": {
        "id": "ECdIUYiQjzbd"
      },
      "source": [
        "## Tidying the Dataset"
      ]
    },
    {
      "cell_type": "code",
      "metadata": {
        "id": "cdVSR9Q8jYQ6",
        "colab": {
          "base_uri": "https://localhost:8080/",
          "height": 601
        },
        "outputId": "10245d03-a2b0-4151-b4fb-300cf097a540"
      },
      "source": [
        "# Checking for Outliers\n",
        "#\n",
        "# Checking for Outliers\n",
        "fig, ((ax1, ax2)) = plt.subplots(1,2, figsize=(10, 7))\n",
        "fig.suptitle('Boxplots')\n",
        "sns.boxplot(df['Respondent Age'], ax=ax1)\n",
        "sns.boxplot(df['household_size'], ax=ax2)"
      ],
      "execution_count": 11,
      "outputs": [
        {
          "output_type": "stream",
          "name": "stderr",
          "text": [
            "/usr/local/lib/python3.7/dist-packages/seaborn/_decorators.py:43: FutureWarning: Pass the following variable as a keyword arg: x. From version 0.12, the only valid positional argument will be `data`, and passing other arguments without an explicit keyword will result in an error or misinterpretation.\n",
            "  FutureWarning\n",
            "/usr/local/lib/python3.7/dist-packages/seaborn/_decorators.py:43: FutureWarning: Pass the following variable as a keyword arg: x. From version 0.12, the only valid positional argument will be `data`, and passing other arguments without an explicit keyword will result in an error or misinterpretation.\n",
            "  FutureWarning\n"
          ]
        },
        {
          "output_type": "execute_result",
          "data": {
            "text/plain": [
              "<matplotlib.axes._subplots.AxesSubplot at 0x7fa792b7fb50>"
            ]
          },
          "metadata": {},
          "execution_count": 11
        },
        {
          "output_type": "display_data",
          "data": {
            "image/png": "[encoded data removed]",
            "text/plain": [
              "<Figure size 720x504 with 2 Axes>"
            ]
          },
          "metadata": {
            "needs_background": "light"
          }
        }
      ]
    },
    {
      "cell_type": "code",
      "metadata": {
        "colab": {
          "base_uri": "https://localhost:8080/"
        },
        "id": "Ch_jGqnsb6_T",
        "outputId": "f2133644-f588-42e4-b2ce-059ac78a11fa"
      },
      "source": [
        "# Checking for Unique values\n",
        "#df[['country',\t'year','uniqueid','Has a Bank account',\t'Type of Location',\t'Cell Phone Access',\t'household_size',\t'Respondent Age',\t'gender_of_respondent',\t'The relathip with head',\t'marital_status','Level of Educuation',\t'Type of Job']].unique()\n",
        "#Step 1. Check for unique values\n",
        "for value in df.columns:\n",
        " print(df[value].unique())\n"
      ],
      "execution_count": 12,
      "outputs": [
        {
          "output_type": "stream",
          "name": "stdout",
          "text": [
            "['Kenya' 'Rwanda' 'Tanzania' nan 'Uganda']\n",
            "[2018 2029 2056 2016 2039 2017]\n",
            "['uniqueid_1' 'uniqueid_2' 'uniqueid_3' ... 'uniqueid_8757'\n",
            " 'uniqueid_8758' 'uniqueid_8759']\n",
            "['Yes' 'No' nan]\n",
            "['Rural' 'Urban' nan]\n",
            "['Yes' 'No' nan]\n",
            "[ 3.  5.  8.  7.  1.  6.  4. 10.  2. 11.  9. 12. 16. 15. 13. 14. 21. nan\n",
            "  0. 18. 17. 20.]\n",
            "[ 24.  70.  26.  34.  32.  42.  54.  76.  40.  69.  64.  31.  38.  47.\n",
            "  27.  48.  25.  21.  18.  22.  58.  55.  62.  29.  35.  45.  67.  19.\n",
            "  80.  66.  50.  33.  28.  51.  16.  17.  30.  37.  59.  65.  46.  56.\n",
            "  52.  23.  43.  49.  44.  72.  53.  63.  39.  81.  78.  36.  20.  60.\n",
            "  95.  71.  57.  85.  68.  41.  61.  75.  86.  73.  nan  93.  74.  88.\n",
            "  90.  77.  84.  82.  89.  79.  83.  94.  87.  92.  91.  98.  97.  96.\n",
            "  99. 100.]\n",
            "['Female' 'Male' nan]\n",
            "['Spouse' 'Head of Household' 'Other relative' 'Child' 'Parent'\n",
            " 'Other non-relatives' nan]\n",
            "['Married/Living together' 'Widowed' 'Single/Never Married'\n",
            " 'Divorced/Seperated' 'Dont know' nan]\n",
            "['Secondary education' 'No formal education'\n",
            " 'Vocational/Specialised training' 'Primary education'\n",
            " 'Tertiary education' 'Other/Dont know/RTA' '6' nan]\n",
            "['Self employed' 'Government Dependent' 'Formally employed Private'\n",
            " 'Informally employed' 'Formally employed Government'\n",
            " 'Farming and Fishing' 'Remittance Dependent' 'Other Income'\n",
            " 'Dont Know/Refuse to answer' nan 'No Income']\n"
          ]
        }
      ]
    },
    {
      "cell_type": "code",
      "metadata": {
        "id": "fauZA8iZDUlA"
      },
      "source": [
        "#Check for Anomalies\n",
        "#Remove the anomalies\n",
        "\n",
        "df= df[~((df.year == 2029) | (df.year == 2039) | (df.year == 2056 ))]"
      ],
      "execution_count": 13,
      "outputs": []
    },
    {
      "cell_type": "code",
      "metadata": {
        "colab": {
          "base_uri": "https://localhost:8080/"
        },
        "id": "Mg0DXcGf5_Fw",
        "outputId": "1b87ba7c-e363-4d70-a776-376059a9d52e"
      },
      "source": [
        "# Identifying the Missing Data\n",
        "#\n",
        "df.isnull().sum()"
      ],
      "execution_count": 14,
      "outputs": [
        {
          "output_type": "execute_result",
          "data": {
            "text/plain": [
              "country                   14\n",
              "year                       0\n",
              "uniqueid                   0\n",
              "Has a Bank account        36\n",
              "Type of Location          15\n",
              "Cell Phone Access         11\n",
              "household_size            28\n",
              "Respondent Age            34\n",
              "gender_of_respondent      34\n",
              "The relathip with head     4\n",
              "marital_status            32\n",
              "Level of Educuation       29\n",
              "Type of Job               30\n",
              "dtype: int64"
            ]
          },
          "metadata": {},
          "execution_count": 14
        }
      ]
    },
    {
      "cell_type": "code",
      "metadata": {
        "id": "S9Lra7t48C5m"
      },
      "source": [
        "# Dealing with the Missing Data\n",
        "#\n",
        "df.dropna(inplace=True)"
      ],
      "execution_count": 15,
      "outputs": []
    },
    {
      "cell_type": "markdown",
      "metadata": {
        "id": "df1bNJLYA0lY"
      },
      "source": [
        "### More cleaning "
      ]
    },
    {
      "cell_type": "code",
      "metadata": {
        "id": "FN8euwCx-KQt"
      },
      "source": [
        "#Dropping columns\n",
        "df.drop(['uniqueid'], inplace = True , axis = 1)"
      ],
      "execution_count": 16,
      "outputs": []
    },
    {
      "cell_type": "code",
      "metadata": {
        "colab": {
          "base_uri": "https://localhost:8080/"
        },
        "id": "_8_76MIiBtuG",
        "outputId": "256e22ff-9e2b-45ba-f3aa-3e9a47a6709d"
      },
      "source": [
        "df.dtypes"
      ],
      "execution_count": 17,
      "outputs": [
        {
          "output_type": "execute_result",
          "data": {
            "text/plain": [
              "country                    object\n",
              "year                        int64\n",
              "Has a Bank account         object\n",
              "Type of Location           object\n",
              "Cell Phone Access          object\n",
              "household_size            float64\n",
              "Respondent Age            float64\n",
              "gender_of_respondent       object\n",
              "The relathip with head     object\n",
              "marital_status             object\n",
              "Level of Educuation        object\n",
              "Type of Job                object\n",
              "dtype: object"
            ]
          },
          "metadata": {},
          "execution_count": 17
        }
      ]
    },
    {
      "cell_type": "markdown",
      "metadata": {
        "id": "9xGp2nKICWQk"
      },
      "source": [
        "#Univariate Analysis"
      ]
    },
    {
      "cell_type": "markdown",
      "metadata": {
        "id": "hnrftUydCa5Y"
      },
      "source": [
        "## 6. Exploratory Analysis"
      ]
    },
    {
      "cell_type": "code",
      "metadata": {
        "colab": {
          "base_uri": "https://localhost:8080/"
        },
        "id": "DfrSEVq6Cjbq",
        "outputId": "f0a8e095-3480-49ac-8c43-791cab8dcdd2"
      },
      "source": [
        "#Measure of central tendancy \n",
        "# 1. Mean\n",
        "df[['Respondent Age','household_size']].mean()"
      ],
      "execution_count": 18,
      "outputs": [
        {
          "output_type": "execute_result",
          "data": {
            "text/plain": [
              "Respondent Age    38.807069\n",
              "household_size     3.688560\n",
              "dtype: float64"
            ]
          },
          "metadata": {},
          "execution_count": 18
        }
      ]
    },
    {
      "cell_type": "code",
      "metadata": {
        "colab": {
          "base_uri": "https://localhost:8080/",
          "height": 81
        },
        "id": "5aWGbsgBDHt9",
        "outputId": "69573838-a198-4165-f344-f8363ee4af4a"
      },
      "source": [
        "#2. Mode\n",
        "df[['Respondent Age','household_size']].mode()"
      ],
      "execution_count": 19,
      "outputs": [
        {
          "output_type": "execute_result",
          "data": {
            "text/html": [
              "<div>\n",
              "<style scoped>\n",
              "    .dataframe tbody tr th:only-of-type {\n",
              "        vertical-align: middle;\n",
              "    }\n",
              "\n",
              "    .dataframe tbody tr th {\n",
              "        vertical-align: top;\n",
              "    }\n",
              "\n",
              "    .dataframe thead th {\n",
              "        text-align: right;\n",
              "    }\n",
              "</style>\n",
              "<table border=\"1\" class=\"dataframe\">\n",
              "  <thead>\n",
              "    <tr style=\"text-align: right;\">\n",
              "      <th></th>\n",
              "      <th>Respondent Age</th>\n",
              "      <th>household_size</th>\n",
              "    </tr>\n",
              "  </thead>\n",
              "  <tbody>\n",
              "    <tr>\n",
              "      <th>0</th>\n",
              "      <td>30.0</td>\n",
              "      <td>2.0</td>\n",
              "    </tr>\n",
              "  </tbody>\n",
              "</table>\n",
              "</div>"
            ],
            "text/plain": [
              "   Respondent Age  household_size\n",
              "0            30.0             2.0"
            ]
          },
          "metadata": {},
          "execution_count": 19
        }
      ]
    },
    {
      "cell_type": "code",
      "metadata": {
        "colab": {
          "base_uri": "https://localhost:8080/"
        },
        "id": "gZZsivGeDNSg",
        "outputId": "d4e78811-ca3f-4da2-a963-bb58ffce8d76"
      },
      "source": [
        "# 3.Median\n",
        "df[['Respondent Age','household_size']].median()"
      ],
      "execution_count": 20,
      "outputs": [
        {
          "output_type": "execute_result",
          "data": {
            "text/plain": [
              "Respondent Age    35.0\n",
              "household_size     3.0\n",
              "dtype: float64"
            ]
          },
          "metadata": {},
          "execution_count": 20
        }
      ]
    },
    {
      "cell_type": "code",
      "metadata": {
        "colab": {
          "base_uri": "https://localhost:8080/"
        },
        "id": "yPk0LEDJDdN-",
        "outputId": "24a13a87-b541-4fce-c215-f3702e3a4c01"
      },
      "source": [
        "#Standard Deviation\n",
        "df.std()"
      ],
      "execution_count": 21,
      "outputs": [
        {
          "output_type": "execute_result",
          "data": {
            "text/plain": [
              "year               0.849136\n",
              "household_size     2.281275\n",
              "Respondent Age    16.519905\n",
              "dtype: float64"
            ]
          },
          "metadata": {},
          "execution_count": 21
        }
      ]
    },
    {
      "cell_type": "code",
      "metadata": {
        "colab": {
          "base_uri": "https://localhost:8080/"
        },
        "id": "gLqF7swnEOUe",
        "outputId": "8fa20e8a-20a9-45eb-8330-7c70862b6882"
      },
      "source": [
        "#Skewness\n",
        "df[['Respondent Age','household_size']].skew()\n",
        "#For skewness, if the value is greater than + 1.0,\n",
        "# the distribution is right skewed. If the value is less than -1.0, the distribution is left skewed\n",
        "\n",
        "#Right Skewed"
      ],
      "execution_count": 22,
      "outputs": [
        {
          "output_type": "execute_result",
          "data": {
            "text/plain": [
              "Respondent Age    0.840615\n",
              "household_size    0.974183\n",
              "dtype: float64"
            ]
          },
          "metadata": {},
          "execution_count": 22
        }
      ]
    },
    {
      "cell_type": "code",
      "metadata": {
        "colab": {
          "base_uri": "https://localhost:8080/"
        },
        "id": "B5oQ5a0QEWUu",
        "outputId": "7e4fa16b-98ee-489f-c46c-3c94fa578623"
      },
      "source": [
        "#Kurtosis\n",
        "df[['Respondent Age','household_size']].kurt()"
      ],
      "execution_count": 23,
      "outputs": [
        {
          "output_type": "execute_result",
          "data": {
            "text/plain": [
              "Respondent Age    0.098268\n",
              "household_size    1.153836\n",
              "dtype: float64"
            ]
          },
          "metadata": {},
          "execution_count": 23
        }
      ]
    },
    {
      "cell_type": "code",
      "metadata": {
        "colab": {
          "base_uri": "https://localhost:8080/",
          "height": 477
        },
        "id": "T-aWpaX1Idj7",
        "outputId": "44438f6b-3599-406b-a6b5-f58b6f9c680a"
      },
      "source": [
        "#Finding country with the highest access to bank accounts\n",
        "#Step 1. locationg from the dataset population with bank accountries \n",
        "bank= df.loc[(df['Has a Bank account'] == 'Yes')]\n",
        "\n",
        "#step 2.PLotting a bar graph from the dataset \n",
        "plt.figure(figsize=(10,7))\n",
        "sns.countplot(x='country', data=bank )\n",
        "plt.title(\"Countries Ranking on Bank Access\" , fontsize =14)"
      ],
      "execution_count": 24,
      "outputs": [
        {
          "output_type": "execute_result",
          "data": {
            "text/plain": [
              "Text(0.5, 1.0, 'Countries Ranking on Bank Access')"
            ]
          },
          "metadata": {},
          "execution_count": 24
        },
        {
          "output_type": "display_data",
          "data": {
            "image/png": "[encoded data removed]",
            "text/plain": [
              "<Figure size 720x504 with 1 Axes>"
            ]
          },
          "metadata": {
            "needs_background": "light"
          }
        }
      ]
    },
    {
      "cell_type": "code",
      "metadata": {
        "colab": {
          "base_uri": "https://localhost:8080/"
        },
        "id": "JVnhG7CZMavE",
        "outputId": "9c9bec36-4264-47fc-f65b-5c0b5145cc57"
      },
      "source": [
        "#Finding out population with access to phone is all the countries \n",
        "#Step 1. locating from dataset population with phone access\n",
        "\n",
        "phone = df.loc[(df['Cell Phone Access'] =='Yes')]\n",
        "phone['country'].value_counts()"
      ],
      "execution_count": 25,
      "outputs": [
        {
          "output_type": "execute_result",
          "data": {
            "text/plain": [
              "Rwanda      7206\n",
              "Kenya       4779\n",
              "Tanzania    3887\n",
              "Uganda      1459\n",
              "Name: country, dtype: int64"
            ]
          },
          "metadata": {},
          "execution_count": 25
        }
      ]
    },
    {
      "cell_type": "code",
      "metadata": {
        "colab": {
          "base_uri": "https://localhost:8080/",
          "height": 477
        },
        "id": "teLwaY1vFWhf",
        "outputId": "e8716a00-54fe-41d7-8c6f-ccf7b1f5e437"
      },
      "source": [
        "#Finding out from the population with phone access the kind whhat kind of jobs they do \n",
        "\n",
        "plt.figure(figsize=(9,7))\n",
        "sns.countplot(x='Type of Location',hue='Type of Job',data=phone)\n",
        "plt.title(\"Location Aganist Job TYpes \", fontsize= 14)"
      ],
      "execution_count": 26,
      "outputs": [
        {
          "output_type": "execute_result",
          "data": {
            "text/plain": [
              "Text(0.5, 1.0, 'Location Aganist Job TYpes ')"
            ]
          },
          "metadata": {},
          "execution_count": 26
        },
        {
          "output_type": "display_data",
          "data": {
            "image/png": "[encoded data removed]",
            "text/plain": [
              "<Figure size 648x504 with 1 Axes>"
            ]
          },
          "metadata": {
            "needs_background": "light"
          }
        }
      ]
    },
    {
      "cell_type": "code",
      "metadata": {
        "colab": {
          "base_uri": "https://localhost:8080/",
          "height": 295
        },
        "id": "HDgHG2gsJENQ",
        "outputId": "89f259ad-1200-4b36-ebf9-7b000fc09ce2"
      },
      "source": [
        "#Finding out what age of population have access to mobile phones but dnt have access to bank accounts\n",
        "\n",
        "#Step 1. locate from the phone dataset people that dnt have access to banks\n",
        "bank_no = phone.loc[(phone['Has a Bank account']=='No')]\n",
        "\n",
        "#step 2. plot a bar graph country and age\n",
        "plt.figure(figsize = (25,7))\n",
        "sns.countplot(x= 'Respondent Age' , data = bank_no)\n",
        "plt.title(\"NO bank acess aganits Age\", fontsize = 14)"
      ],
      "execution_count": 27,
      "outputs": [
        {
          "output_type": "execute_result",
          "data": {
            "text/plain": [
              "Text(0.5, 1.0, 'NO bank acess aganits Age')"
            ]
          },
          "metadata": {},
          "execution_count": 27
        },
        {
          "output_type": "display_data",
          "data": {
            "image/png": "[encoded data removed]",
            "text/plain": [
              "<Figure size 1800x504 with 1 Axes>"
            ]
          },
          "metadata": {
            "needs_background": "light"
          }
        }
      ]
    },
    {
      "cell_type": "markdown",
      "metadata": {
        "id": "E49RLh-EN_iM"
      },
      "source": [
        "## Implementing the Solution"
      ]
    },
    {
      "cell_type": "code",
      "metadata": {
        "id": "RTk6Hx4COv3L"
      },
      "source": [
        "#From the analysis l would recommend that the fintech coumpany should traget poplution with phone access\n",
        "#and they are located in the rural area. That is a huge market that has not been exploited and has a huge poteintial\n",
        "#for mobile banking integration.\n",
        "#I would also recommend that fintech should focus on people who are self employed, farming and fishing and informally employed in the rural area.\n",
        "#Fintech should also target population aged between 26 to 45 , because that is a population has high accesss to mobile phone\n",
        "#but do not have bank accounts.\n"
      ],
      "execution_count": 28,
      "outputs": []
    },
    {
      "cell_type": "markdown",
      "metadata": {
        "id": "4agp9_4HQMIS"
      },
      "source": [
        "## Biavariate Analysis"
      ]
    },
    {
      "cell_type": "markdown",
      "metadata": {
        "id": "6M3ygCNOQUPe"
      },
      "source": [
        "### Exploratory Analysis "
      ]
    },
    {
      "cell_type": "code",
      "metadata": {
        "id": "s2nb9GksQcpS",
        "colab": {
          "base_uri": "https://localhost:8080/",
          "height": 297
        },
        "outputId": "9f7a82cc-03d7-4e05-eae8-e30c069a4c84"
      },
      "source": [
        "#Finding the correlation between having access to phone and have a bank account \n",
        "    \n",
        "#Step 1.Plot a scatter plot to show the relationship\n",
        "\n",
        "sns.scatterplot(x='household_size', y= 'Respondent Age', hue = 'Has a Bank account', data = df)\n",
        "\n",
        "# There is no relationship between having a bank account and household size \n",
        "#but there is a strong relationship between having and not having an bank account and respondent age."
      ],
      "execution_count": 29,
      "outputs": [
        {
          "output_type": "execute_result",
          "data": {
            "text/plain": [
              "<matplotlib.axes._subplots.AxesSubplot at 0x7fa791fdb8d0>"
            ]
          },
          "metadata": {},
          "execution_count": 29
        },
        {
          "output_type": "display_data",
          "data": {
            "image/png": "[encoded data removed]",
            "text/plain": [
              "<Figure size 432x288 with 1 Axes>"
            ]
          },
          "metadata": {
            "needs_background": "light"
          }
        }
      ]
    },
    {
      "cell_type": "code",
      "metadata": {
        "colab": {
          "base_uri": "https://localhost:8080/"
        },
        "id": "9lzpUHbxIkeL",
        "outputId": "9e104240-b5f8-4ea1-bb71-00235e7e55d0"
      },
      "source": [
        "# Finding the pearson correlation coeffecient 3\n",
        "df['household_size'].corr(df['Respondent Age'])\n",
        "\n",
        "# THere is strong negative correlation between household size and respondent age "
      ],
      "execution_count": 30,
      "outputs": [
        {
          "output_type": "execute_result",
          "data": {
            "text/plain": [
              "-0.1196711523415487"
            ]
          },
          "metadata": {},
          "execution_count": 30
        }
      ]
    },
    {
      "cell_type": "markdown",
      "metadata": {
        "id": "St6bhyDiiGfp"
      },
      "source": [
        "## Multivariate Analysis"
      ]
    },
    {
      "cell_type": "markdown",
      "metadata": {
        "id": "BxcgxgCbiRr0"
      },
      "source": [
        "### Exploratory Analysis"
      ]
    },
    {
      "cell_type": "code",
      "metadata": {
        "id": "pohOa20qia2k"
      },
      "source": [
        "#Processing \n",
        "#separate the dataset into x = independent variables , y = dependent variable\n",
        "\n",
        "X =df.drop('Has a Bank account', axis = 1)\n",
        "y = df['Has a Bank account']"
      ],
      "execution_count": 50,
      "outputs": []
    },
    {
      "cell_type": "code",
      "metadata": {
        "id": "MICK2hi19YQ_"
      },
      "source": [
        "#create a dumpy variable to hlp you test thhe accuracy of the dataset \n",
        "X = pd.get_dummies(X)\n"
      ],
      "execution_count": 51,
      "outputs": []
    },
    {
      "cell_type": "code",
      "metadata": {
        "id": "FaUbBLcpkMw7"
      },
      "source": [
        "#slipting the dataset into train and test dataset\n",
        "from sklearn.model_selection import train_test_split\n",
        "\n",
        "X_train, X_test, y_train, y_test = train_test_split(X, y, test_size=0.2, random_state=0)\n"
      ],
      "execution_count": 52,
      "outputs": []
    },
    {
      "cell_type": "code",
      "metadata": {
        "id": "rDy6FioEkikR"
      },
      "source": [
        "#Normalization of the dataset using standard scaler , this assumes the mean as zero and the standard deviation = 1\n",
        "\n",
        "from sklearn.preprocessing import StandardScaler\n",
        "\n",
        "sc = StandardScaler()\n",
        "X_train = sc.fit_transform(X_train)\n",
        "X_test = sc.transform(X_test)"
      ],
      "execution_count": 53,
      "outputs": []
    },
    {
      "cell_type": "code",
      "metadata": {
        "id": "aUOr_4lnLRDe"
      },
      "source": [
        "#Appling PCA\n",
        "from sklearn.decomposition import PCA\n",
        "\n",
        "pca = PCA()\n",
        "X_train = pca.fit_transform(X_train)\n",
        "X_test = pca.transform(X_test)\n"
      ],
      "execution_count": 54,
      "outputs": []
    },
    {
      "cell_type": "code",
      "metadata": {
        "colab": {
          "base_uri": "https://localhost:8080/"
        },
        "id": "WOXbv1z2-Pb8",
        "outputId": "14e017c4-ceae-4b8e-9959-8b7a8542c003"
      },
      "source": [
        "#Find Explained Variance Ratio\n",
        "explained_variance = pca.explained_variance_ratio_\n",
        "explained_variance"
      ],
      "execution_count": 55,
      "outputs": [
        {
          "output_type": "execute_result",
          "data": {
            "text/plain": [
              "array([1.01711630e-01, 7.25378488e-02, 6.97245816e-02, 6.24751896e-02,\n",
              "       5.16625861e-02, 4.62446560e-02, 4.01541854e-02, 3.56443263e-02,\n",
              "       3.48771440e-02, 3.11665118e-02, 2.97509140e-02, 2.71011249e-02,\n",
              "       2.62719478e-02, 2.52395328e-02, 2.50320421e-02, 2.47680305e-02,\n",
              "       2.46704336e-02, 2.42959986e-02, 2.41589570e-02, 2.39212523e-02,\n",
              "       2.37282076e-02, 2.32792357e-02, 2.20882579e-02, 2.11141236e-02,\n",
              "       1.97155548e-02, 1.92430265e-02, 1.54275762e-02, 1.32384154e-02,\n",
              "       1.14065685e-02, 1.11867261e-02, 9.38057201e-03, 8.78284265e-03,\n",
              "       1.75914422e-31, 1.75669261e-32, 6.74718296e-33, 3.36769685e-33,\n",
              "       2.55923183e-33, 2.18011466e-33, 1.82595827e-33, 1.03349241e-33,\n",
              "       2.75970982e-35])"
            ]
          },
          "metadata": {},
          "execution_count": 55
        }
      ]
    },
    {
      "cell_type": "code",
      "metadata": {
        "id": "GS-nwmBr-0NI"
      },
      "source": [
        "#Using 1st Principle Componet \n",
        "from sklearn.decomposition import PCA\n",
        "\n",
        "pca = PCA(n_components=1)\n",
        "X_train = pca.fit_transform(X_train)\n",
        "X_test = pca.transform(X_test)"
      ],
      "execution_count": 63,
      "outputs": []
    },
    {
      "cell_type": "code",
      "metadata": {
        "colab": {
          "base_uri": "https://localhost:8080/"
        },
        "id": "LMRGCe0z-9yy",
        "outputId": "0f763120-c8ae-45df-ec3e-53398b700f45"
      },
      "source": [
        "#Training and making Predictions\n",
        "from sklearn.ensemble import RandomForestClassifier\n",
        "\n",
        "classifier = RandomForestClassifier(max_depth=2, random_state=0)\n",
        "classifier.fit(X_train, y_train)\n",
        "\n",
        "# Predicting the Test set results\n",
        "y_pred = classifier.predict(X_test)\n",
        "y_pred"
      ],
      "execution_count": 57,
      "outputs": [
        {
          "output_type": "execute_result",
          "data": {
            "text/plain": [
              "array(['No', 'No', 'No', ..., 'No', 'No', 'No'], dtype=object)"
            ]
          },
          "metadata": {},
          "execution_count": 57
        }
      ]
    },
    {
      "cell_type": "code",
      "metadata": {
        "colab": {
          "base_uri": "https://localhost:8080/"
        },
        "id": "siEUd7UU_LN5",
        "outputId": "3df3f223-d89f-4f1b-c55f-187f55dc9ad3"
      },
      "source": [
        "#Performance Evaluation and checking for accuracy \n",
        "# \n",
        "from sklearn.metrics import confusion_matrix\n",
        "from sklearn.metrics import accuracy_score\n",
        "\n",
        "cm = confusion_matrix(y_test, y_pred)\n",
        "print(cm)\n",
        "print('Accuracy' , accuracy_score(y_test, y_pred))"
      ],
      "execution_count": 58,
      "outputs": [
        {
          "output_type": "stream",
          "name": "stdout",
          "text": [
            "[[4036    0]\n",
            " [ 632    0]]\n",
            "Accuracy 0.8646101113967438\n"
          ]
        }
      ]
    },
    {
      "cell_type": "code",
      "metadata": {
        "id": "ora5bGA__9cL"
      },
      "source": [
        "#The accuracy of the 1st principle component is 86%.\n",
        "# We have obtained a good accuracy and significally reduced the variables "
      ],
      "execution_count": 66,
      "outputs": []
    }
  ]
}